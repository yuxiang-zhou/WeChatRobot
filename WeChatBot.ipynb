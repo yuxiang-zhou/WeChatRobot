{
 "cells": [
  {
   "cell_type": "markdown",
   "metadata": {},
   "source": [
    "# WeChatBot"
   ]
  },
  {
   "cell_type": "code",
   "execution_count": 2,
   "metadata": {
    "collapsed": false
   },
   "outputs": [],
   "source": [
    "import menpo.io as mio\n",
    "import numpy as np\n",
    "import matplotlib.pyplot as plt\n",
    "from pathlib import Path\n",
    "from menpofit.aam import HolisticAAM, PatchAAM\n",
    "from menpowidgets import visualize_images, visualize_fitting_result\n",
    "from menpo.feature import igo, hog, no_op, dsift, double_igo as digo\n",
    "from menpo.transform import UniformScale, Translation, Rotation, Translation\n",
    "from menpodetect import load_dlib_frontal_face_detector\n",
    "import pylab as pl\n",
    "from menpo.shape import PointCloud, TriMesh\n",
    "from menpo.transform import AlignmentSimilarity\n",
    "\n",
    "%matplotlib inline"
   ]
  },
  {
   "cell_type": "markdown",
   "metadata": {},
   "source": [
    "### CalDAV Test"
   ]
  },
  {
   "cell_type": "code",
   "execution_count": 3,
   "metadata": {
    "collapsed": false
   },
   "outputs": [
    {
     "ename": "ImportError",
     "evalue": "No module named caldav",
     "output_type": "error",
     "traceback": [
      "\u001b[1;31m---------------------------------------------------------------------------\u001b[0m",
      "\u001b[1;31mImportError\u001b[0m                               Traceback (most recent call last)",
      "\u001b[1;32m<ipython-input-3-59bff1b7fc00>\u001b[0m in \u001b[0;36m<module>\u001b[1;34m()\u001b[0m\n\u001b[0;32m      1\u001b[0m \u001b[1;32mfrom\u001b[0m \u001b[0mdatetime\u001b[0m \u001b[1;32mimport\u001b[0m \u001b[0mdatetime\u001b[0m\u001b[1;33m\u001b[0m\u001b[0m\n\u001b[1;32m----> 2\u001b[1;33m \u001b[1;32mimport\u001b[0m \u001b[0mcaldav\u001b[0m\u001b[1;33m\u001b[0m\u001b[0m\n\u001b[0m\u001b[0;32m      3\u001b[0m \u001b[1;32mfrom\u001b[0m \u001b[0mcaldav\u001b[0m\u001b[1;33m.\u001b[0m\u001b[0melements\u001b[0m \u001b[1;32mimport\u001b[0m \u001b[0mdav\u001b[0m\u001b[1;33m,\u001b[0m \u001b[0mcdav\u001b[0m\u001b[1;33m\u001b[0m\u001b[0m\n\u001b[0;32m      4\u001b[0m \u001b[1;33m\u001b[0m\u001b[0m\n\u001b[0;32m      5\u001b[0m \u001b[1;31m# Caldav url\u001b[0m\u001b[1;33m\u001b[0m\u001b[1;33m\u001b[0m\u001b[0m\n",
      "\u001b[1;31mImportError\u001b[0m: No module named caldav"
     ]
    }
   ],
   "source": [
    "from datetime import datetime\n",
    "import caldav\n",
    "from caldav.elements import dav, cdav\n",
    "\n",
    "# Caldav url\n",
    "url = \"https://mr.yuxiang.zhou@googlemail.com:1330871pP@hostname/caldav.php/\"\n",
    "\n",
    "vcal = \"\"\"BEGIN:VCALENDAR\n",
    "VERSION:2.0\n",
    "PRODID:-//Example Corp.//CalDAV Client//EN\n",
    "BEGIN:VEVENT\n",
    "UID:1234567890\n",
    "DTSTAMP:20100510T182145Z\n",
    "DTSTART:20100512T170000Z\n",
    "DTEND:20100512T180000Z\n",
    "SUMMARY:This is an event\n",
    "END:VEVENT\n",
    "END:VCALENDAR\n",
    "\"\"\"\n",
    "\n"
   ]
  },
  {
   "cell_type": "code",
   "execution_count": null,
   "metadata": {
    "collapsed": true
   },
   "outputs": [],
   "source": [
    "client = caldav.DAVClient(url)\n",
    "principal = client.principal()\n",
    "calendars = principal.calendars()\n",
    "if len(calendars) > 0:\n",
    "    calendar = calendars[0]\n",
    "    print \"Using calendar\", calendar\n",
    "\n",
    "    print \"Renaming\"\n",
    "    calendar.set_properties([dav.DisplayName(\"Test calendar\"),])\n",
    "    print calendar.get_properties([dav.DisplayName(),])\n",
    "\n",
    "    event = calendar.add_event(vcal)\n",
    "    print \"Event\", event, \"created\"\n",
    "\n",
    "    print \"Looking for events in 2010-05\"\n",
    "    results = calendar.date_search(\n",
    "        datetime(2010, 5, 1), datetime(2010, 6, 1))\n",
    "\n",
    "    for event in results:\n",
    "        print \"Found\", event"
   ]
  },
  {
   "cell_type": "markdown",
   "metadata": {},
   "source": [
    "### Auto Reply Test"
   ]
  },
  {
   "cell_type": "code",
   "execution_count": 1,
   "metadata": {
    "collapsed": false
   },
   "outputs": [
    {
     "name": "stdout",
     "output_type": "stream",
     "text": [
      "{\"code\":308000,\"text\":\"亲，已帮您找到菜谱信息\",\"list\":[{\"name\":\"深夜泡面\",\"icon\":\"http://s1.cdn.xiachufang.com/040c02667d7811e5843a35065ad47291.jpg@2o_50sh_1pr_1l_280w_216h_1c_1e_90q_1wh.jpg\",\"info\":\"随便什么泡面一包、海苔肉松 | 葱、芹菜、意大利香草碎\",\"detailurl\":\"http://m.xiachufang.com/recipe/1050089/\"},{\"name\":\"满足食欲的深夜秘密 森系浓香泡面\",\"icon\":\"http://s2.cdn.xiachufang.com/dad9b2827ed311e594fd8f6e759c3dcf.jpg?imageView2/1/w/280/h/216/interlace/1/q/90/format/jpg/.jpg\",\"info\":\"任意方便面、芝士片、鸡蛋、小黄瓜\",\"detailurl\":\"http://m.xiachufang.com/recipe/100516787/\"},{\"name\":\"健康煮泡面\",\"icon\":\"http://s2.cdn.xiachufang.com/8b722d617dd111e5b7d3bfdee7a1944d.jpg?imageView2/1/w/280/h/216/interlace/1/q/90/format/jpg/.jpg\",\"info\":\"火腿肠、蔬菜 | 任何牌子方便面一包、鸡蛋、葱花\",\"detailurl\":\"http://m.xiachufang.com/recipe/100100421/\"},{\"name\":\"韩国芝士泡面\",\"icon\":\"http://s2.cdn.xiachufang.com/474e0eba7d8611e58e2bcf3462356cf8.jpg?imageView2/1/w/280/h/216/interlace/1/q/90/format/jpg/.jpg\",\"info\":\"泡面、芝士片 | 韩国泡菜、火腿肠、芝麻酱、盐、白糖、番茄酱、酱油\",\"detailurl\":\"http://m.xiachufang.com/recipe/1060423/\"},{\"name\":\"韩国泡面\",\"icon\":\"http://s2.cdn.xiachufang.com/d0bc48997d5d11e5b55e0b0f7ff3c06f.jpg?imageView2/1/w/280/h/216/interlace/1/q/90/format/jpg/.jpg\",\"info\":\"泡面 | 丸子、青椒\",\"detailurl\":\"http://m.xiachufang.com/recipe/1016817/\"},{\"name\":\"奶粉泡面\",\"icon\":\"http://s2.cdn.xiachufang.com/da4484177d8c11e5b3db7762dff629af.jpg?imageView2/1/w/280/h/216/interlace/1/q/90/format/jpg/.jpg\",\"info\":\"泡面（各种口味都行） | 奶粉（我的是雀巢全脂奶粉）\",\"detailurl\":\"http://m.xiachufang.com/recipe/1068148/\"},{\"name\":\"世界上第三好吃的泡面^_^\",\"icon\":\"http://s2.cdn.xiachufang.com/1a12ceae7ec811e5ba6db82a72e00100.jpg?imageView2/1/w/280/h/216/interlace/1/q/90/format/jpg/.jpg\",\"info\":\"新加坡叻沙泡面、煮熟的鸡蛋、虾、豆皮\",\"detailurl\":\"http://m.xiachufang.com/recipe/100502796/\"},{\"name\":\"香喷喷芝士泡面~\",\"icon\":\"http://s2.cdn.xiachufang.com/f477237c7e7011e588f7b82a72e00100.jpg?imageView2/1/w/280/h/216/interlace/1/q/90/format/jpg/.jpg\",\"info\":\"芝士 | 辛拉面、鸡蛋\",\"detailurl\":\"http://m.xiachufang.com/recipe/100392227/\"},{\"name\":\"泡面\",\"icon\":\"http://s2.cdn.xiachufang.com/b9b6a5b37ddc11e594d9bd72949ee93a.jpg?imageView2/1/w/280/h/216/interlace/1/q/90/format/jpg/.jpg\",\"info\":\"泡面 | 各种丸子（牛肉、火腿等）、小虾、海带、小白菜、葱、油、盐、鸡精\",\"detailurl\":\"http://m.xiachufang.com/recipe/100118086/\"},{\"name\":\"蛋黄酱泡面\",\"icon\":\"http://s2.cdn.xiachufang.com/afd70be17e1111e5b0f073481ce53b28.jpg?imageView2/1/w/280/h/216/interlace/1/q/90/format/jpg/.jpg\",\"info\":\"杯面（泡面）、蛋黄酱（美乃滋） | 开水\",\"detailurl\":\"http://m.xiachufang.com/recipe/100261113/\"},{\"name\":\"简单美味炒泡面\",\"icon\":\"http://s2.cdn.xiachufang.com/7a101ec77dbd11e5bac089c29166ac25.jpg?imageView2/1/w/280/h/216/interlace/1/q/90/format/jpg/.jpg\",\"info\":\"泡面 | 小青菜、蘑菇、香肠\",\"detailurl\":\"http://m.xiachufang.com/recipe/100039234/\"},{\"name\":\"火腿泡面\",\"icon\":\"http://s2.cdn.xiachufang.com/d2a6b7d17d9011e59c760ba4ce5257fc.jpg?imageView2/1/w/280/h/216/interlace/1/q/90/format/jpg/.jpg\",\"info\":\"香辣泡面、鸡蛋 | 火腿肠、色拉油\",\"detailurl\":\"http://m.xiachufang.com/recipe/1071782/\"},{\"name\":\"辣白菜年糕泡面\",\"icon\":\"http://s2.cdn.xiachufang.com/c4bf40fa7d4011e5ba2e739a20711506.jpg?imageView2/1/w/280/h/216/interlace/1/q/90/format/jpg/.jpg\",\"info\":\"手指年糕、辣白菜泡面 | 韩式辣白菜、年糕辣酱、水、红尖椒、葱\",\"detailurl\":\"http://m.xiachufang.com/recipe/259763/\"},{\"name\":\"韩国版煮泡面\",\"icon\":\"http://s2.cdn.xiachufang.com/f09ff87c7ec611e5a5cbb82a72e00100.jpg?imageView2/1/w/280/h/216/interlace/1/q/90/format/jpg/.jpg\",\"info\":\"泡面、火腿肠、鸡蛋、小白菜、牛肉丸、韩国辣酱、葱、蒜\",\"detailurl\":\"http://m.xiachufang.com/recipe/100501413/\"},{\"name\":\"西红柿泡面\",\"icon\":\"http://s2.cdn.xiachufang.com/b2d10d237d8311e5ba0bedf4f433e1a9.jpg?imageView2/1/w/280/h/216/interlace/1/q/90/format/jpg/.jpg\",\"info\":\"西红柿、泡面 | 青椒\",\"detailurl\":\"http://m.xiachufang.com/recipe/1056168/\"}]}\n"
     ]
    }
   ],
   "source": [
    "import requests, json\n",
    "def tulingReply(text):\n",
    "    key = '56bbd71ded658acbd04169a21b605114'\n",
    "    r = requests.get(\n",
    "        'http://www.tuling123.com/openapi/api?key={}&info={}&userid='.format(\n",
    "            key,text\n",
    "        )\n",
    "    )\n",
    "    return r.text\n",
    "\n",
    "print tulingReply('想吃泡面')"
   ]
  },
  {
   "cell_type": "code",
   "execution_count": null,
   "metadata": {
    "collapsed": true
   },
   "outputs": [],
   "source": []
  }
 ],
 "metadata": {
  "kernelspec": {
   "display_name": "Python 2",
   "language": "python",
   "name": "python2"
  },
  "language_info": {
   "codemirror_mode": {
    "name": "ipython",
    "version": 2
   },
   "file_extension": ".py",
   "mimetype": "text/x-python",
   "name": "python",
   "nbconvert_exporter": "python",
   "pygments_lexer": "ipython2",
   "version": "2.7.11"
  }
 },
 "nbformat": 4,
 "nbformat_minor": 0
}
